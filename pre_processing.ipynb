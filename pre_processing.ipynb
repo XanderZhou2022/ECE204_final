{
 "cells": [
  {
   "cell_type": "code",
   "execution_count": 146,
   "metadata": {},
   "outputs": [],
   "source": [
    "import os\n",
    "import json\n",
    "import numpy as np\n",
    "import pandas as pd\n",
    "import seaborn as sns\n"
   ]
  },
  {
   "cell_type": "markdown",
   "metadata": {},
   "source": [
    "# Section1: Data Importation"
   ]
  },
  {
   "cell_type": "markdown",
   "metadata": {},
   "source": [
    "## Step1 Get the basic paper review information"
   ]
  },
  {
   "cell_type": "markdown",
   "metadata": {},
   "source": [
    "![peer_review example](img/peer_review_example.png)\n",
    "example of the peer review"
   ]
  },
  {
   "cell_type": "markdown",
   "metadata": {},
   "source": [
    "![peer_read](img/peer_read.png)"
   ]
  },
  {
   "cell_type": "markdown",
   "metadata": {},
   "source": [
    "### Describe how the dataset is organized dataset "
   ]
  },
  {
   "cell_type": "markdown",
   "metadata": {},
   "source": [
    "The original review data is sourced from JSON files located in the `original_data/data` directory. This directory is organized by conference name (e.g., `acl_2017`, `conll_2016`) and paper type (`train`, `dev`, `test`). Within each conference folder, the `reviews` subdirectory contains the JSON files, where each file corresponds to a specific paper. These JSON files include metadata such as the paper title, review scores (e.g., `IMPACT`, `SUBSTANCE`, `ORIGINALITY`), reviewer comments, and other evaluation metrics. This structure allows for systematic extraction and analysis of peer review data."
   ]
  },
  {
   "cell_type": "markdown",
   "metadata": {},
   "source": [
    "All the files in the `data` folder that were processed during the project:\n",
    "\n",
    "1. **`accepted_clean.pkl`**  \n",
    "   - **Description**: A cleaned dataset containing only accepted papers with all missing values removed and non-numerical fields converted to numerical values. The `comments` column has been dropped for simplicity.  \n",
    "   - **Purpose**: Used as the final cleaned dataset for analysis and modeling.\n",
    "\n",
    "2. **`accepted_clean.csv`**  \n",
    "   - **Description**: The same as `accepted_clean.pkl`, but saved in CSV format for easier accessibility and compatibility with other tools.  \n",
    "   - **Purpose**: Provides a human-readable version of the cleaned dataset.\n",
    "\n",
    "3. **`acl_2017.pkl`**  \n",
    "   - **Description**: A DataFrame containing raw review data for papers from the ACL 2017 conference. This includes metadata, review scores, and reviewer comments extracted from JSON files.  \n",
    "   - **Purpose**: Serves as an intermediate dataset before filtering for accepted papers.\n",
    "\n",
    "4. **`acl_accepted.pkl`**  \n",
    "   - **Description**: A filtered dataset containing only accepted papers from ACL 2017, with citation counts added from the `citation.json` file.  \n",
    "   - **Purpose**: Used to analyze accepted papers from ACL 2017 and their citation impact.\n",
    "\n",
    "5. **`all_title.txt`**  \n",
    "   - **Description**: A text file containing the titles of all papers (from both ACL 2017 and CoNLL 2016) extracted from the JSON files.  \n",
    "   - **Purpose**: Used as input for querying citation and acceptance information via external tools like GPT and Google Scholar.\n",
    "\n",
    "6. **`citation.json`**  \n",
    "   - **Description**: A JSON file containing information about whether each paper was accepted and its citation count. This data was collected using GPT and Google Scholar based on the titles in `all_title.txt`.  \n",
    "   - **Purpose**: Provides citation and acceptance data to merge with the review datasets.\n",
    "\n",
    "7. **`cleaned_data.csv`**  \n",
    "   - **Description**: Another version of the cleaned dataset, similar to `accepted_clean.csv`, saved for compatibility with different tools.  \n",
    "   - **Purpose**: Used as the final dataset for analysis and modeling.\n",
    "\n",
    "8. **`combined_accepted.pkl`**  \n",
    "   - **Description**: A combined dataset of accepted papers from both ACL 2017 and CoNLL 2016, including citation counts and review scores.  \n",
    "   - **Purpose**: Used for unified analysis of accepted papers across both conferences.\n",
    "\n",
    "9. **`conll_2016.pkl`**  \n",
    "   - **Description**: A DataFrame containing raw review data for papers from the CoNLL 2016 conference. This includes metadata, review scores, and reviewer comments extracted from JSON files.  \n",
    "   - **Purpose**: Serves as an intermediate dataset before filtering for accepted papers.\n",
    "\n",
    "10. **`conll_accepted.pkl`**  \n",
    "    - **Description**: A filtered dataset containing only accepted papers from CoNLL 2016, with citation counts added from the `citation.json` file.  \n",
    "    - **Purpose**: Used to analyze accepted papers from CoNLL 2016 and their citation impact."
   ]
  },
  {
   "cell_type": "code",
   "execution_count": 147,
   "metadata": {},
   "outputs": [],
   "source": [
    "def get_paper_info(conference_name, paper_type):\n",
    "    reviews_dir = f\"original_data/data/{conference_name}/{paper_type}/reviews\"\n",
    "    papers = []\n",
    "    for filename in os.listdir(reviews_dir):\n",
    "        file_path = os.path.join(reviews_dir, filename)\n",
    "        if filename.endswith('.json'):\n",
    "            with open(file_path, 'r') as f:\n",
    "                data = json.load(f)\n",
    "                title = data['title']\n",
    "                for review in data['reviews']:\n",
    "                    paper = {\n",
    "                        'title': title,\n",
    "                        \"IMPACT\": review.get(\"IMPACT\", np.nan),\n",
    "                        \"SUBSTANCE\": review.get(\"SUBSTANCE\", np.nan),\n",
    "                        \"APPROPRIATENESS\": review.get(\"APPROPRIATENESS\", np.nan),\n",
    "                        \"MEANINGFUL_COMPARISON\": review.get(\"MEANINGFUL_COMPARISON\", np.nan),\n",
    "                        \"PRESENTATION_FORMAT\": review.get(\"PRESENTATION_FORMAT\", np.nan),\n",
    "                        \"comments\": review.get(\"comments\", np.nan),\n",
    "                        \"SOUNDNESS_CORRECTNESS\": review.get(\"SOUNDNESS_CORRECTNESS\", np.nan),\n",
    "                        \"ORIGINALITY\": review.get(\"ORIGINALITY\", np.nan),\n",
    "                        \"RECOMMENDATION\": review.get(\"RECOMMENDATION\", np.nan),\n",
    "                        \"CLARITY\": review.get(\"CLARITY\", np.nan),\n",
    "                        \"REVIEWER_CONFIDENCE\": review.get(\"REVIEWER_CONFIDENCE\", np.nan)\n",
    "                    }\n",
    "                    papers.append(paper)\n",
    "    return papers   "
   ]
  },
  {
   "cell_type": "markdown",
   "metadata": {},
   "source": [
    "> ACL's Special Interest Group on Natural Language Learning\n",
    "\n",
    "> Annual Meeting of the Association for Computational Linguistics"
   ]
  },
  {
   "cell_type": "markdown",
   "metadata": {},
   "source": [
    "\n",
    "The get_paper_info function extracts relevant fields from the JSON files and organizes them into a list of dictionaries, where each dictionary represents a paper review.\n",
    "These dictionaries are converted into Pandas DataFrames (conll_2016_df and acl_2017_df), which are saved as .pkl files for later use."
   ]
  },
  {
   "cell_type": "code",
   "execution_count": 148,
   "metadata": {},
   "outputs": [],
   "source": [
    "conference_names = ['conll_2016', 'acl_2017']\n",
    "paper_types = ['train', 'dev', 'test']\n",
    "papers_conll_2016 = []\n",
    "papers_iclr_2017 = []\n",
    "for conference_name in conference_names:\n",
    "    for paper_type in paper_types:\n",
    "        try:\n",
    "            papers = get_paper_info(conference_name, paper_type)\n",
    "        except:\n",
    "            print(f\"Error processing {conference_name}/{paper_type}\")\n",
    "        papers = get_paper_info(conference_name, paper_type)\n",
    " \n",
    "        if conference_name == 'conll_2016':\n",
    "            papers_conll_2016 += papers\n",
    "        else:\n",
    "            papers_iclr_2017 += papers  "
   ]
  },
  {
   "cell_type": "code",
   "execution_count": 149,
   "metadata": {},
   "outputs": [],
   "source": [
    "conll_2016_df = pd.DataFrame(papers_conll_2016)\n",
    "acl_2017_df = pd.DataFrame(papers_iclr_2017)\n",
    "conll_2016_df.to_pickle('data/conll_2016.pkl')\n",
    "acl_2017_df.to_pickle('data/acl_2017.pkl')"
   ]
  },
  {
   "cell_type": "code",
   "execution_count": 150,
   "metadata": {},
   "outputs": [],
   "source": [
    "conll_2016_title = list(conll_2016_df['title'])\n",
    "acl_2017_title = list(acl_2017_df['title'])"
   ]
  },
  {
   "cell_type": "code",
   "execution_count": 151,
   "metadata": {},
   "outputs": [],
   "source": [
    "\n",
    "all_title = set(conll_2016_title).union(set(acl_2017_title))\n",
    "with open('data/all_title.txt', 'w') as f:\n",
    "    for title in all_title:\n",
    "        f.write(\"%s\\n\" % title)\n",
    "# After this step, we use the Chatgpt for us to collect the citations for each of the papers in the list."
   ]
  },
  {
   "cell_type": "markdown",
   "metadata": {},
   "source": [
    "## Step2 Get the acceptance and citation information using GPT and google scholar"
   ]
  },
  {
   "cell_type": "markdown",
   "metadata": {},
   "source": [
    "![citation example](img/citation_example.png)"
   ]
  },
  {
   "cell_type": "markdown",
   "metadata": {},
   "source": [
    "- Prompt we use:\n",
    "> now I have collected some papers from acl 2017 and conll 2016, I need you to find:\n",
    "> 1. whether they are be accepted\n",
    "> 2. if it is accepted, I need the citation of the paper\n",
    "> \n",
    "> \n",
    "> every time give me 20 papers in json, and I will say continue, and then next 20\n",
    "> \n",
    "> give me a json file with key: the title of the paper, filed: is_accepted and citation_num"
   ]
  },
  {
   "cell_type": "code",
   "execution_count": 152,
   "metadata": {},
   "outputs": [],
   "source": [
    "import json\n",
    "with open('data/citation.json', 'r') as file:\n",
    "    data_citation = json.load(file)"
   ]
  },
  {
   "cell_type": "markdown",
   "metadata": {},
   "source": [
    "A separate JSON file (citation.json) is loaded, containing information about whether each paper was accepted and its citation count.\n",
    "This data is merged with the review data to create new DataFrames (conll_accepted_df and acl_accepted), which include only accepted papers with citation counts."
   ]
  },
  {
   "cell_type": "code",
   "execution_count": 153,
   "metadata": {},
   "outputs": [
    {
     "data": {
      "text/plain": [
       "{'is_accepted': True, 'citation_num': 230}"
      ]
     },
     "execution_count": 153,
     "metadata": {},
     "output_type": "execute_result"
    }
   ],
   "source": [
    "data_citation[\"A Comparison of Robust Parsing Methods for HPSG\"]"
   ]
  },
  {
   "cell_type": "code",
   "execution_count": 154,
   "metadata": {},
   "outputs": [
    {
     "data": {
      "text/html": [
       "<div>\n",
       "<style scoped>\n",
       "    .dataframe tbody tr th:only-of-type {\n",
       "        vertical-align: middle;\n",
       "    }\n",
       "\n",
       "    .dataframe tbody tr th {\n",
       "        vertical-align: top;\n",
       "    }\n",
       "\n",
       "    .dataframe thead th {\n",
       "        text-align: right;\n",
       "    }\n",
       "</style>\n",
       "<table border=\"1\" class=\"dataframe\">\n",
       "  <thead>\n",
       "    <tr style=\"text-align: right;\">\n",
       "      <th></th>\n",
       "      <th>paper_title</th>\n",
       "      <th>is_accepted</th>\n",
       "      <th>citation_num</th>\n",
       "    </tr>\n",
       "  </thead>\n",
       "  <tbody>\n",
       "    <tr>\n",
       "      <th>0</th>\n",
       "      <td>CANE: Context-Aware Network Embedding for Rela...</td>\n",
       "      <td>True</td>\n",
       "      <td>158.0</td>\n",
       "    </tr>\n",
       "    <tr>\n",
       "      <th>1</th>\n",
       "      <td>Weakly Supervised Cross-Lingual Named Entity R...</td>\n",
       "      <td>True</td>\n",
       "      <td>135.0</td>\n",
       "    </tr>\n",
       "    <tr>\n",
       "      <th>2</th>\n",
       "      <td>Discovering Correspondences between Multiple L...</td>\n",
       "      <td>False</td>\n",
       "      <td>NaN</td>\n",
       "    </tr>\n",
       "    <tr>\n",
       "      <th>3</th>\n",
       "      <td>Learning a Neural Semantic Parser from User Fe...</td>\n",
       "      <td>True</td>\n",
       "      <td>89.0</td>\n",
       "    </tr>\n",
       "    <tr>\n",
       "      <th>4</th>\n",
       "      <td>Morphological Inflection Generation with Hard ...</td>\n",
       "      <td>True</td>\n",
       "      <td>183.0</td>\n",
       "    </tr>\n",
       "  </tbody>\n",
       "</table>\n",
       "</div>"
      ],
      "text/plain": [
       "                                         paper_title  is_accepted  \\\n",
       "0  CANE: Context-Aware Network Embedding for Rela...         True   \n",
       "1  Weakly Supervised Cross-Lingual Named Entity R...         True   \n",
       "2  Discovering Correspondences between Multiple L...        False   \n",
       "3  Learning a Neural Semantic Parser from User Fe...         True   \n",
       "4  Morphological Inflection Generation with Hard ...         True   \n",
       "\n",
       "   citation_num  \n",
       "0         158.0  \n",
       "1         135.0  \n",
       "2           NaN  \n",
       "3          89.0  \n",
       "4         183.0  "
      ]
     },
     "execution_count": 154,
     "metadata": {},
     "output_type": "execute_result"
    }
   ],
   "source": [
    "df_citation = pd.DataFrame.from_dict(data_citation, orient='index')\n",
    "df_citation.reset_index(inplace=True)\n",
    "df_citation.rename(columns={'index': 'paper_title'}, inplace=True)\n",
    "df_citation.head(5)\n",
    "\n",
    "# Nan values in the dataframe indicate that the paper was not found in Google Scholar."
   ]
  },
  {
   "cell_type": "code",
   "execution_count": 155,
   "metadata": {},
   "outputs": [],
   "source": [
    "valid_title = list(df_citation[df_citation['is_accepted'] == True]['paper_title'])"
   ]
  },
  {
   "cell_type": "code",
   "execution_count": 156,
   "metadata": {},
   "outputs": [],
   "source": [
    "conll_accepted_df = conll_2016_df[conll_2016_df['title'].isin(valid_title)].reset_index(drop=True)\n",
    "conll_accepted_df['citation_count'] = conll_accepted_df['title'].apply(\n",
    "    lambda x: data_citation[x]['citation_num'] \n",
    ")\n",
    "conll_accepted_df['source'] = 'conll_2016' \n",
    "conll_accepted_df.to_pickle('data/conll_accepted.pkl')"
   ]
  },
  {
   "cell_type": "code",
   "execution_count": 157,
   "metadata": {},
   "outputs": [],
   "source": [
    "acl_accepted = acl_2017_df[acl_2017_df['title'].isin(valid_title)].reset_index(drop=True)\n",
    "acl_accepted['citation_count'] = acl_accepted['title'].apply(\n",
    "    lambda x: data_citation[x]['citation_num'] \n",
    ")\n",
    "acl_accepted['source'] = 'acl_2017'\n",
    "acl_accepted.to_pickle('data/acl_accepted.pkl')"
   ]
  },
  {
   "cell_type": "markdown",
   "metadata": {},
   "source": [
    "### union the two sources"
   ]
  },
  {
   "cell_type": "code",
   "execution_count": 158,
   "metadata": {},
   "outputs": [],
   "source": [
    "combined_df = pd.concat([conll_accepted_df, acl_accepted], ignore_index=True)"
   ]
  },
  {
   "cell_type": "markdown",
   "metadata": {},
   "source": [
    "The accepted papers from both conferences are combined into a single DataFrame (combined_df), which is saved as combined_accepted.pkl."
   ]
  },
  {
   "cell_type": "code",
   "execution_count": 159,
   "metadata": {},
   "outputs": [],
   "source": [
    "combined_df.to_pickle('data/combined_accepted.pkl')"
   ]
  },
  {
   "cell_type": "markdown",
   "metadata": {},
   "source": [
    "### Identify numerical and categorical variables in the DataFrame\n"
   ]
  },
  {
   "cell_type": "code",
   "execution_count": 160,
   "metadata": {},
   "outputs": [
    {
     "name": "stdout",
     "output_type": "stream",
     "text": [
      "Numerical Variables: ['citation_count']\n",
      "Categorical Variables: ['title', 'IMPACT', 'SUBSTANCE', 'APPROPRIATENESS', 'MEANINGFUL_COMPARISON', 'PRESENTATION_FORMAT', 'comments', 'SOUNDNESS_CORRECTNESS', 'ORIGINALITY', 'RECOMMENDATION', 'CLARITY', 'REVIEWER_CONFIDENCE', 'source']\n"
     ]
    }
   ],
   "source": [
    "numerical_vars = combined_df.select_dtypes(include=['number']).columns.tolist()\n",
    "categorical_vars = combined_df.select_dtypes(exclude=['number']).columns.tolist()\n",
    "\n",
    "print(\"Numerical Variables:\", numerical_vars)\n",
    "print(\"Categorical Variables:\", categorical_vars)"
   ]
  },
  {
   "cell_type": "markdown",
   "metadata": {},
   "source": [
    "# Section2: Initial Exploration"
   ]
  },
  {
   "cell_type": "markdown",
   "metadata": {},
   "source": [
    "### Inspect the data using appropriate DataFrame methods. \n"
   ]
  },
  {
   "cell_type": "code",
   "execution_count": 161,
   "metadata": {},
   "outputs": [],
   "source": [
    "accepted_paper = pd.read_pickle('data/combined_accepted.pkl')"
   ]
  },
  {
   "cell_type": "code",
   "execution_count": 162,
   "metadata": {},
   "outputs": [
    {
     "data": {
      "text/html": [
       "<div>\n",
       "<style scoped>\n",
       "    .dataframe tbody tr th:only-of-type {\n",
       "        vertical-align: middle;\n",
       "    }\n",
       "\n",
       "    .dataframe tbody tr th {\n",
       "        vertical-align: top;\n",
       "    }\n",
       "\n",
       "    .dataframe thead th {\n",
       "        text-align: right;\n",
       "    }\n",
       "</style>\n",
       "<table border=\"1\" class=\"dataframe\">\n",
       "  <thead>\n",
       "    <tr style=\"text-align: right;\">\n",
       "      <th></th>\n",
       "      <th>title</th>\n",
       "      <th>IMPACT</th>\n",
       "      <th>SUBSTANCE</th>\n",
       "      <th>APPROPRIATENESS</th>\n",
       "      <th>MEANINGFUL_COMPARISON</th>\n",
       "      <th>PRESENTATION_FORMAT</th>\n",
       "      <th>comments</th>\n",
       "      <th>SOUNDNESS_CORRECTNESS</th>\n",
       "      <th>ORIGINALITY</th>\n",
       "      <th>RECOMMENDATION</th>\n",
       "      <th>CLARITY</th>\n",
       "      <th>REVIEWER_CONFIDENCE</th>\n",
       "      <th>citation_count</th>\n",
       "      <th>source</th>\n",
       "    </tr>\n",
       "  </thead>\n",
       "  <tbody>\n",
       "    <tr>\n",
       "      <th>0</th>\n",
       "      <td>Redefining part-of-speech classes with distrib...</td>\n",
       "      <td>2</td>\n",
       "      <td>1</td>\n",
       "      <td>3</td>\n",
       "      <td>3</td>\n",
       "      <td>Poster</td>\n",
       "      <td>The aim of this paper is to show that distribu...</td>\n",
       "      <td>4</td>\n",
       "      <td>2</td>\n",
       "      <td>2</td>\n",
       "      <td>4</td>\n",
       "      <td>4</td>\n",
       "      <td>80</td>\n",
       "      <td>conll_2016</td>\n",
       "    </tr>\n",
       "    <tr>\n",
       "      <th>1</th>\n",
       "      <td>Redefining part-of-speech classes with distrib...</td>\n",
       "      <td>2</td>\n",
       "      <td>4</td>\n",
       "      <td>5</td>\n",
       "      <td>1</td>\n",
       "      <td>Poster</td>\n",
       "      <td>## General comments:\\nThis paper presents an e...</td>\n",
       "      <td>4</td>\n",
       "      <td>2</td>\n",
       "      <td>2</td>\n",
       "      <td>4</td>\n",
       "      <td>5</td>\n",
       "      <td>80</td>\n",
       "      <td>conll_2016</td>\n",
       "    </tr>\n",
       "    <tr>\n",
       "      <th>2</th>\n",
       "      <td>Massively Multilingual Word Embeddings</td>\n",
       "      <td>3</td>\n",
       "      <td>3</td>\n",
       "      <td>4</td>\n",
       "      <td>3</td>\n",
       "      <td>Poster</td>\n",
       "      <td>This paper describes four methods of obtaining...</td>\n",
       "      <td>4</td>\n",
       "      <td>3</td>\n",
       "      <td>3</td>\n",
       "      <td>4</td>\n",
       "      <td>4</td>\n",
       "      <td>130</td>\n",
       "      <td>conll_2016</td>\n",
       "    </tr>\n",
       "    <tr>\n",
       "      <th>3</th>\n",
       "      <td>Massively Multilingual Word Embeddings</td>\n",
       "      <td>4</td>\n",
       "      <td>5</td>\n",
       "      <td>4</td>\n",
       "      <td>5</td>\n",
       "      <td>Poster</td>\n",
       "      <td>This paper proposes two dictionary-based metho...</td>\n",
       "      <td>5</td>\n",
       "      <td>3</td>\n",
       "      <td>3</td>\n",
       "      <td>5</td>\n",
       "      <td>4</td>\n",
       "      <td>130</td>\n",
       "      <td>conll_2016</td>\n",
       "    </tr>\n",
       "    <tr>\n",
       "      <th>4</th>\n",
       "      <td>Semi-supervised Convolutional Networks for Tra...</td>\n",
       "      <td>4</td>\n",
       "      <td>4</td>\n",
       "      <td>5</td>\n",
       "      <td>4</td>\n",
       "      <td>Poster</td>\n",
       "      <td>The paper describes an MT training data select...</td>\n",
       "      <td>4</td>\n",
       "      <td>3</td>\n",
       "      <td>4</td>\n",
       "      <td>3</td>\n",
       "      <td>4</td>\n",
       "      <td>70</td>\n",
       "      <td>conll_2016</td>\n",
       "    </tr>\n",
       "  </tbody>\n",
       "</table>\n",
       "</div>"
      ],
      "text/plain": [
       "                                               title IMPACT SUBSTANCE  \\\n",
       "0  Redefining part-of-speech classes with distrib...      2         1   \n",
       "1  Redefining part-of-speech classes with distrib...      2         4   \n",
       "2             Massively Multilingual Word Embeddings      3         3   \n",
       "3             Massively Multilingual Word Embeddings      4         5   \n",
       "4  Semi-supervised Convolutional Networks for Tra...      4         4   \n",
       "\n",
       "  APPROPRIATENESS MEANINGFUL_COMPARISON PRESENTATION_FORMAT  \\\n",
       "0               3                     3              Poster   \n",
       "1               5                     1              Poster   \n",
       "2               4                     3              Poster   \n",
       "3               4                     5              Poster   \n",
       "4               5                     4              Poster   \n",
       "\n",
       "                                            comments SOUNDNESS_CORRECTNESS  \\\n",
       "0  The aim of this paper is to show that distribu...                     4   \n",
       "1  ## General comments:\\nThis paper presents an e...                     4   \n",
       "2  This paper describes four methods of obtaining...                     4   \n",
       "3  This paper proposes two dictionary-based metho...                     5   \n",
       "4  The paper describes an MT training data select...                     4   \n",
       "\n",
       "  ORIGINALITY RECOMMENDATION CLARITY REVIEWER_CONFIDENCE  citation_count  \\\n",
       "0           2              2       4                   4              80   \n",
       "1           2              2       4                   5              80   \n",
       "2           3              3       4                   4             130   \n",
       "3           3              3       5                   4             130   \n",
       "4           3              4       3                   4              70   \n",
       "\n",
       "       source  \n",
       "0  conll_2016  \n",
       "1  conll_2016  \n",
       "2  conll_2016  \n",
       "3  conll_2016  \n",
       "4  conll_2016  "
      ]
     },
     "execution_count": 162,
     "metadata": {},
     "output_type": "execute_result"
    }
   ],
   "source": [
    "accepted_paper.head(5)"
   ]
  },
  {
   "cell_type": "code",
   "execution_count": 163,
   "metadata": {},
   "outputs": [
    {
     "data": {
      "text/plain": [
       "Index(['title', 'IMPACT', 'SUBSTANCE', 'APPROPRIATENESS',\n",
       "       'MEANINGFUL_COMPARISON', 'PRESENTATION_FORMAT', 'comments',\n",
       "       'SOUNDNESS_CORRECTNESS', 'ORIGINALITY', 'RECOMMENDATION', 'CLARITY',\n",
       "       'REVIEWER_CONFIDENCE', 'citation_count', 'source'],\n",
       "      dtype='object')"
      ]
     },
     "execution_count": 163,
     "metadata": {},
     "output_type": "execute_result"
    }
   ],
   "source": [
    "accepted_paper.columns"
   ]
  },
  {
   "cell_type": "markdown",
   "metadata": {},
   "source": [
    "### 📊 Paper Review Index Breakdown\n",
    "\n",
    "| Index | What It Means | Why It Matters |\n",
    "|-------|----------------|----------------|\n",
    "| `title` | Title of the paper | Useful for identifying the paper, but doesn't influence acceptance or citations. |\n",
    "| `IMPACT` | Potential impact of the work on the field | **Important for both acceptance & citations**. High-impact papers are more likely to be accepted and cited. |\n",
    "| `SUBSTANCE` | Depth and completeness of the contribution | **Highly important** for acceptance. Reviewers value comprehensive and substantial work. |\n",
    "| `APPROPRIATENESS` | Suitability for the conference or venue | **Critical for acceptance**. Even great work can be rejected if off-topic. |\n",
    "| `MEANINGFUL_COMPARISON` | Quality of experiments and baselines | **Relevant to acceptance**. Good comparisons increase credibility and reviewer confidence. |\n",
    "| `PRESENTATION_FORMAT` | Adherence to formatting guidelines | **Moderate impact on acceptance**. Poor formatting can result in desk rejection. |\n",
    "| `comments` | Free-form reviewer feedback | Provides insights into reviewer thought process. Useful for qualitative analysis. |\n",
    "| `SOUNDNESS_CORRECTNESS` | Theoretical and empirical validity | **Crucial for acceptance**. Flawed logic or methodology is a major rejection reason. |\n",
    "| `ORIGINALITY` | Novelty and innovativeness | **Important for both acceptance & citations**. More original work tends to attract attention. |\n",
    "| `RECOMMENDATION` | Reviewer's overall recommendation (e.g. Accept/Reject) | **Directly tied to acceptance**. Summarizes reviewer evaluation. |\n",
    "| `CLARITY` | How clearly the work is written | **Impacts both acceptance & citations**. Clear papers are easier to understand and build upon. |\n",
    "| `REVIEWER_CONFIDENCE` | How confident the reviewer is in their review | Useful for interpreting other scores. Low confidence can indicate reviewer uncertainty. |\n",
    "| `citation_count` | Number of citations the paper has received | **Measures post-acceptance impact**. Not relevant to acceptance, but very important for assessing long-term value. |\n",
    "| `source` | Conference or dataset source | Contextual info; may be useful for filtering or analysis but not directly impactful. |\n",
    "\n",
    "---"
   ]
  },
  {
   "cell_type": "markdown",
   "metadata": {},
   "source": [
    "### Use at least two charts to visually inspect the data.\n"
   ]
  },
  {
   "cell_type": "code",
   "execution_count": 164,
   "metadata": {},
   "outputs": [
    {
     "data": {
      "image/png": "[encoded data removed]",
      "text/plain": [
       "<Figure size 800x600 with 1 Axes>"
      ]
     },
     "metadata": {},
     "output_type": "display_data"
    },
    {
     "data": {
      "image/png": "[encoded data removed]",
      "text/plain": [
       "<Figure size 800x600 with 1 Axes>"
      ]
     },
     "metadata": {},
     "output_type": "display_data"
    }
   ],
   "source": [
    "import matplotlib.pyplot as plt\n",
    "\n",
    "# Boxplot for Citation Count\n",
    "plt.figure(figsize=(8, 6))\n",
    "plt.boxplot(accepted_paper['citation_count'], vert=False, patch_artist=True, boxprops=dict(facecolor='skyblue'))\n",
    "plt.title('Boxplot of Citation Count')\n",
    "plt.xlabel('Citation Count')\n",
    "plt.show()\n",
    "\n",
    "# Bar Chart for Reviewer Confidence\n",
    "plt.figure(figsize=(8, 6))\n",
    "accepted_paper['REVIEWER_CONFIDENCE'].value_counts().sort_index().plot(\n",
    "    kind='bar', color='skyblue', figsize=(8, 6)\n",
    ")\n",
    "plt.title('Distribution of Reviewer Confidence')\n",
    "plt.xlabel('Reviewer Confidence')\n",
    "plt.ylabel('Frequency')\n",
    "plt.xticks(rotation=0)\n",
    "plt.show()"
   ]
  },
  {
   "cell_type": "markdown",
   "metadata": {},
   "source": [
    "### Provide key summary statistics of numerical variables(mean, median, standard deviation, etc.) "
   ]
  },
  {
   "cell_type": "code",
   "execution_count": 165,
   "metadata": {},
   "outputs": [
    {
     "data": {
      "text/plain": [
       "title                    object\n",
       "IMPACT                   object\n",
       "SUBSTANCE                object\n",
       "APPROPRIATENESS          object\n",
       "MEANINGFUL_COMPARISON    object\n",
       "PRESENTATION_FORMAT      object\n",
       "comments                 object\n",
       "SOUNDNESS_CORRECTNESS    object\n",
       "ORIGINALITY              object\n",
       "RECOMMENDATION           object\n",
       "CLARITY                  object\n",
       "REVIEWER_CONFIDENCE      object\n",
       "citation_count            int64\n",
       "source                   object\n",
       "dtype: object"
      ]
     },
     "execution_count": 165,
     "metadata": {},
     "output_type": "execute_result"
    }
   ],
   "source": [
    "accepted_paper.dtypes"
   ]
  },
  {
   "cell_type": "code",
   "execution_count": 166,
   "metadata": {},
   "outputs": [],
   "source": [
    "# make the string to numerical\n",
    "numerical_columns = ['IMPACT', 'SUBSTANCE', 'APPROPRIATENESS',\n",
    "       'MEANINGFUL_COMPARISON', \n",
    "       'SOUNDNESS_CORRECTNESS', 'ORIGINALITY', 'RECOMMENDATION', 'CLARITY',\n",
    "       'REVIEWER_CONFIDENCE', 'citation_count']\n",
    "for column in numerical_columns:\n",
    "    accepted_paper[column] = pd.to_numeric(accepted_paper[column])\n"
   ]
  },
  {
   "cell_type": "code",
   "execution_count": 167,
   "metadata": {},
   "outputs": [
    {
     "data": {
      "text/html": [
       "<div>\n",
       "<style scoped>\n",
       "    .dataframe tbody tr th:only-of-type {\n",
       "        vertical-align: middle;\n",
       "    }\n",
       "\n",
       "    .dataframe tbody tr th {\n",
       "        vertical-align: top;\n",
       "    }\n",
       "\n",
       "    .dataframe thead th {\n",
       "        text-align: right;\n",
       "    }\n",
       "</style>\n",
       "<table border=\"1\" class=\"dataframe\">\n",
       "  <thead>\n",
       "    <tr style=\"text-align: right;\">\n",
       "      <th></th>\n",
       "      <th>IMPACT</th>\n",
       "      <th>SUBSTANCE</th>\n",
       "      <th>APPROPRIATENESS</th>\n",
       "      <th>MEANINGFUL_COMPARISON</th>\n",
       "      <th>SOUNDNESS_CORRECTNESS</th>\n",
       "      <th>ORIGINALITY</th>\n",
       "      <th>RECOMMENDATION</th>\n",
       "      <th>CLARITY</th>\n",
       "      <th>REVIEWER_CONFIDENCE</th>\n",
       "      <th>citation_count</th>\n",
       "    </tr>\n",
       "  </thead>\n",
       "  <tbody>\n",
       "    <tr>\n",
       "      <th>count</th>\n",
       "      <td>172.000000</td>\n",
       "      <td>178.000000</td>\n",
       "      <td>178.000000</td>\n",
       "      <td>172.000000</td>\n",
       "      <td>178.000000</td>\n",
       "      <td>178.000000</td>\n",
       "      <td>178.000000</td>\n",
       "      <td>178.000000</td>\n",
       "      <td>178.000000</td>\n",
       "      <td>178.000000</td>\n",
       "    </tr>\n",
       "    <tr>\n",
       "      <th>mean</th>\n",
       "      <td>3.238372</td>\n",
       "      <td>3.674157</td>\n",
       "      <td>4.887640</td>\n",
       "      <td>3.563953</td>\n",
       "      <td>4.084270</td>\n",
       "      <td>3.820225</td>\n",
       "      <td>3.533708</td>\n",
       "      <td>4.039326</td>\n",
       "      <td>3.870787</td>\n",
       "      <td>118.528090</td>\n",
       "    </tr>\n",
       "    <tr>\n",
       "      <th>std</th>\n",
       "      <td>0.636266</td>\n",
       "      <td>0.777876</td>\n",
       "      <td>0.395974</td>\n",
       "      <td>0.879582</td>\n",
       "      <td>0.869236</td>\n",
       "      <td>0.890144</td>\n",
       "      <td>0.782210</td>\n",
       "      <td>0.859394</td>\n",
       "      <td>0.781235</td>\n",
       "      <td>63.452654</td>\n",
       "    </tr>\n",
       "    <tr>\n",
       "      <th>min</th>\n",
       "      <td>2.000000</td>\n",
       "      <td>1.000000</td>\n",
       "      <td>2.000000</td>\n",
       "      <td>1.000000</td>\n",
       "      <td>3.000000</td>\n",
       "      <td>2.000000</td>\n",
       "      <td>1.000000</td>\n",
       "      <td>1.000000</td>\n",
       "      <td>2.000000</td>\n",
       "      <td>1.000000</td>\n",
       "    </tr>\n",
       "    <tr>\n",
       "      <th>25%</th>\n",
       "      <td>3.000000</td>\n",
       "      <td>3.000000</td>\n",
       "      <td>5.000000</td>\n",
       "      <td>3.000000</td>\n",
       "      <td>3.000000</td>\n",
       "      <td>3.000000</td>\n",
       "      <td>3.000000</td>\n",
       "      <td>4.000000</td>\n",
       "      <td>3.000000</td>\n",
       "      <td>62.000000</td>\n",
       "    </tr>\n",
       "    <tr>\n",
       "      <th>50%</th>\n",
       "      <td>3.000000</td>\n",
       "      <td>4.000000</td>\n",
       "      <td>5.000000</td>\n",
       "      <td>3.000000</td>\n",
       "      <td>4.000000</td>\n",
       "      <td>4.000000</td>\n",
       "      <td>4.000000</td>\n",
       "      <td>4.000000</td>\n",
       "      <td>4.000000</td>\n",
       "      <td>117.500000</td>\n",
       "    </tr>\n",
       "    <tr>\n",
       "      <th>75%</th>\n",
       "      <td>3.000000</td>\n",
       "      <td>4.000000</td>\n",
       "      <td>5.000000</td>\n",
       "      <td>4.000000</td>\n",
       "      <td>5.000000</td>\n",
       "      <td>5.000000</td>\n",
       "      <td>4.000000</td>\n",
       "      <td>5.000000</td>\n",
       "      <td>4.000000</td>\n",
       "      <td>171.000000</td>\n",
       "    </tr>\n",
       "    <tr>\n",
       "      <th>max</th>\n",
       "      <td>5.000000</td>\n",
       "      <td>5.000000</td>\n",
       "      <td>5.000000</td>\n",
       "      <td>5.000000</td>\n",
       "      <td>5.000000</td>\n",
       "      <td>5.000000</td>\n",
       "      <td>5.000000</td>\n",
       "      <td>5.000000</td>\n",
       "      <td>5.000000</td>\n",
       "      <td>250.000000</td>\n",
       "    </tr>\n",
       "  </tbody>\n",
       "</table>\n",
       "</div>"
      ],
      "text/plain": [
       "           IMPACT   SUBSTANCE  APPROPRIATENESS  MEANINGFUL_COMPARISON  \\\n",
       "count  172.000000  178.000000       178.000000             172.000000   \n",
       "mean     3.238372    3.674157         4.887640               3.563953   \n",
       "std      0.636266    0.777876         0.395974               0.879582   \n",
       "min      2.000000    1.000000         2.000000               1.000000   \n",
       "25%      3.000000    3.000000         5.000000               3.000000   \n",
       "50%      3.000000    4.000000         5.000000               3.000000   \n",
       "75%      3.000000    4.000000         5.000000               4.000000   \n",
       "max      5.000000    5.000000         5.000000               5.000000   \n",
       "\n",
       "       SOUNDNESS_CORRECTNESS  ORIGINALITY  RECOMMENDATION     CLARITY  \\\n",
       "count             178.000000   178.000000      178.000000  178.000000   \n",
       "mean                4.084270     3.820225        3.533708    4.039326   \n",
       "std                 0.869236     0.890144        0.782210    0.859394   \n",
       "min                 3.000000     2.000000        1.000000    1.000000   \n",
       "25%                 3.000000     3.000000        3.000000    4.000000   \n",
       "50%                 4.000000     4.000000        4.000000    4.000000   \n",
       "75%                 5.000000     5.000000        4.000000    5.000000   \n",
       "max                 5.000000     5.000000        5.000000    5.000000   \n",
       "\n",
       "       REVIEWER_CONFIDENCE  citation_count  \n",
       "count           178.000000      178.000000  \n",
       "mean              3.870787      118.528090  \n",
       "std               0.781235       63.452654  \n",
       "min               2.000000        1.000000  \n",
       "25%               3.000000       62.000000  \n",
       "50%               4.000000      117.500000  \n",
       "75%               4.000000      171.000000  \n",
       "max               5.000000      250.000000  "
      ]
     },
     "execution_count": 167,
     "metadata": {},
     "output_type": "execute_result"
    }
   ],
   "source": [
    "accepted_paper.describe()"
   ]
  },
  {
   "cell_type": "markdown",
   "metadata": {},
   "source": [
    "### discuss any outliers or anomalies."
   ]
  },
  {
   "cell_type": "code",
   "execution_count": 168,
   "metadata": {},
   "outputs": [
    {
     "data": {
      "image/png": "[encoded data removed]",
      "text/plain": [
       "<Figure size 1000x600 with 1 Axes>"
      ]
     },
     "metadata": {},
     "output_type": "display_data"
    },
    {
     "name": "stdout",
     "output_type": "stream",
     "text": [
      "Number of Outliers in IMPACT: 52\n",
      "     IMPACT\n",
      "0       2.0\n",
      "1       2.0\n",
      "3       4.0\n",
      "4       4.0\n",
      "6       4.0\n",
      "8       4.0\n",
      "10      4.0\n",
      "11      4.0\n",
      "15      4.0\n",
      "16      2.0\n",
      "17      4.0\n",
      "18      2.0\n",
      "19      4.0\n",
      "22      2.0\n",
      "23      4.0\n",
      "25      4.0\n",
      "26      4.0\n",
      "31      5.0\n",
      "32      5.0\n",
      "33      5.0\n",
      "43      2.0\n",
      "44      2.0\n",
      "45      4.0\n",
      "57      4.0\n",
      "58      4.0\n",
      "63      4.0\n",
      "64      4.0\n",
      "65      4.0\n",
      "76      5.0\n",
      "77      5.0\n",
      "87      4.0\n",
      "94      4.0\n",
      "95      4.0\n",
      "96      4.0\n",
      "97      4.0\n",
      "105     4.0\n",
      "106     4.0\n",
      "116     5.0\n",
      "122     4.0\n",
      "123     4.0\n",
      "132     4.0\n",
      "133     2.0\n",
      "134     2.0\n",
      "144     4.0\n",
      "145     4.0\n",
      "146     4.0\n",
      "147     4.0\n",
      "148     4.0\n",
      "154     5.0\n",
      "155     5.0\n",
      "156     5.0\n",
      "171     2.0\n"
     ]
    },
    {
     "data": {
      "image/png": "[encoded data removed]",
      "text/plain": [
       "<Figure size 1000x600 with 1 Axes>"
      ]
     },
     "metadata": {},
     "output_type": "display_data"
    },
    {
     "name": "stdout",
     "output_type": "stream",
     "text": [
      "Number of Outliers in SUBSTANCE: 3\n",
      "     SUBSTANCE\n",
      "0            1\n",
      "83           1\n",
      "103          1\n"
     ]
    },
    {
     "data": {
      "image/png": "[encoded data removed]",
      "text/plain": [
       "<Figure size 1000x600 with 1 Axes>"
      ]
     },
     "metadata": {},
     "output_type": "display_data"
    },
    {
     "name": "stdout",
     "output_type": "stream",
     "text": [
      "Number of Outliers in APPROPRIATENESS: 16\n",
      "     APPROPRIATENESS\n",
      "0                  3\n",
      "2                  4\n",
      "3                  4\n",
      "32                 4\n",
      "51                 4\n",
      "81                 4\n",
      "85                 4\n",
      "90                 4\n",
      "110                4\n",
      "113                2\n",
      "133                4\n",
      "134                3\n",
      "139                4\n",
      "150                4\n",
      "166                4\n",
      "171                4\n"
     ]
    },
    {
     "data": {
      "image/png": "[encoded data removed]",
      "text/plain": [
       "<Figure size 1000x600 with 1 Axes>"
      ]
     },
     "metadata": {},
     "output_type": "display_data"
    },
    {
     "name": "stdout",
     "output_type": "stream",
     "text": [
      "Number of Outliers in MEANINGFUL_COMPARISON: 1\n",
      "   MEANINGFUL_COMPARISON\n",
      "1                    1.0\n"
     ]
    },
    {
     "data": {
      "image/png": "[encoded data removed]",
      "text/plain": [
       "<Figure size 1000x600 with 1 Axes>"
      ]
     },
     "metadata": {},
     "output_type": "display_data"
    },
    {
     "name": "stdout",
     "output_type": "stream",
     "text": [
      "Number of Outliers in SOUNDNESS_CORRECTNESS: 0\n"
     ]
    },
    {
     "data": {
      "image/png": "[encoded data removed]",
      "text/plain": [
       "<Figure size 1000x600 with 1 Axes>"
      ]
     },
     "metadata": {},
     "output_type": "display_data"
    },
    {
     "name": "stdout",
     "output_type": "stream",
     "text": [
      "Number of Outliers in ORIGINALITY: 0\n"
     ]
    },
    {
     "data": {
      "image/png": "[encoded data removed]",
      "text/plain": [
       "<Figure size 1000x600 with 1 Axes>"
      ]
     },
     "metadata": {},
     "output_type": "display_data"
    },
    {
     "name": "stdout",
     "output_type": "stream",
     "text": [
      "Number of Outliers in RECOMMENDATION: 2\n",
      "     RECOMMENDATION\n",
      "71                1\n",
      "103               1\n"
     ]
    },
    {
     "data": {
      "image/png": "[encoded data removed]",
      "text/plain": [
       "<Figure size 1000x600 with 1 Axes>"
      ]
     },
     "metadata": {},
     "output_type": "display_data"
    },
    {
     "name": "stdout",
     "output_type": "stream",
     "text": [
      "Number of Outliers in CLARITY: 10\n",
      "     CLARITY\n",
      "40         2\n",
      "51         2\n",
      "55         2\n",
      "68         2\n",
      "84         2\n",
      "92         2\n",
      "116        2\n",
      "119        1\n",
      "133        2\n",
      "171        2\n"
     ]
    },
    {
     "data": {
      "image/png": "[encoded data removed]",
      "text/plain": [
       "<Figure size 1000x600 with 1 Axes>"
      ]
     },
     "metadata": {},
     "output_type": "display_data"
    },
    {
     "name": "stdout",
     "output_type": "stream",
     "text": [
      "Number of Outliers in REVIEWER_CONFIDENCE: 0\n"
     ]
    }
   ],
   "source": [
    "numerical_columns = ['IMPACT', 'SUBSTANCE', 'APPROPRIATENESS', \n",
    "                     'MEANINGFUL_COMPARISON', 'SOUNDNESS_CORRECTNESS', \n",
    "                     'ORIGINALITY', 'RECOMMENDATION', 'CLARITY', \n",
    "                     'REVIEWER_CONFIDENCE']\n",
    "\n",
    "# Function to detect outliers using the IQR method\n",
    "def detect_outliers(data, column):\n",
    "    Q1 = data[column].quantile(0.25)\n",
    "    Q3 = data[column].quantile(0.75)\n",
    "    IQR = Q3 - Q1\n",
    "    lower_bound = Q1 - 1.5 * IQR\n",
    "    upper_bound = Q3 + 1.5 * IQR\n",
    "    outliers = data[(data[column] < lower_bound) | (data[column] > upper_bound)]\n",
    "    return outliers\n",
    "\n",
    "# Loop through numerical columns and plot boxplots\n",
    "for column in numerical_columns:\n",
    "    plt.figure(figsize=(10, 6))\n",
    "    sns.boxplot(x=accepted_paper[column], color='skyblue')\n",
    "    plt.title(f'Boxplot of {column}', fontsize=16)\n",
    "    plt.xlabel(column, fontsize=12)\n",
    "    plt.show()\n",
    "    \n",
    "    # Detect and print outliers\n",
    "    outliers = detect_outliers(accepted_paper, column)\n",
    "    print(f\"Number of Outliers in {column}: {len(outliers)}\")\n",
    "    if not outliers.empty:\n",
    "        print(outliers[[column]])"
   ]
  },
  {
   "cell_type": "markdown",
   "metadata": {},
   "source": [
    "# Section3 Data Pre-processing and Cleaning"
   ]
  },
  {
   "cell_type": "markdown",
   "metadata": {},
   "source": [
    "## Change the non-numerical to numerical one"
   ]
  },
  {
   "cell_type": "markdown",
   "metadata": {},
   "source": [
    "### PRESENTATION_FORMAT"
   ]
  },
  {
   "cell_type": "markdown",
   "metadata": {},
   "source": [
    "Missing values are identified and removed, particularly for fields like comments and PRESENTATION_FORMAT.\n",
    "Non-numerical fields (e.g., PRESENTATION_FORMAT) are converted to numerical values for analysis.\n",
    "String-based numerical columns are explicitly converted to numeric types."
   ]
  },
  {
   "cell_type": "code",
   "execution_count": 169,
   "metadata": {},
   "outputs": [
    {
     "data": {
      "text/plain": [
       "array(['Poster', 'Oral Presentation'], dtype=object)"
      ]
     },
     "execution_count": 169,
     "metadata": {},
     "output_type": "execute_result"
    }
   ],
   "source": [
    "accepted_paper['PRESENTATION_FORMAT'].unique()"
   ]
  },
  {
   "cell_type": "code",
   "execution_count": 170,
   "metadata": {},
   "outputs": [],
   "source": [
    "def format_to_num(format_str):\n",
    "    if format_str == 'Oral Presentation':\n",
    "        return 1\n",
    "    elif format_str == 'Poster':\n",
    "        return 2"
   ]
  },
  {
   "cell_type": "code",
   "execution_count": 171,
   "metadata": {},
   "outputs": [],
   "source": [
    "accepted_paper['PRESENTATION_FORMAT_NUM']  = accepted_paper['PRESENTATION_FORMAT'].apply(format_to_num)"
   ]
  },
  {
   "cell_type": "markdown",
   "metadata": {},
   "source": [
    "## comments"
   ]
  },
  {
   "cell_type": "code",
   "execution_count": 172,
   "metadata": {},
   "outputs": [
    {
     "name": "stdout",
     "output_type": "stream",
     "text": [
      "The aim of this paper is to show that distributional information stored in word\n",
      "vector models contain information about POS labels. They use a version of the\n",
      "BNC annotated with UD POS and in which words have been replaced by lemmas. They\n",
      "train word embeddings on this corpus, then use the resulting vectors to train a\n",
      "logistic classifier to predict the word POS. Evaluations are performed on the\n",
      "same corpus (using cross-validation) as well as on other corpora. Results are\n",
      "clearly presented and discussed and analyzed at length.\n",
      "\n",
      "The paper is clear and well-written. The main issue with this paper is that it\n",
      "does not contain anything new in terms of NLP or ML. It describe a set of\n",
      "straightforward experiments without any new NLP or ML ideas or methods. Results\n",
      "are interesting indeed, in so far that they provide an empirical grounding to\n",
      "the notion of POS. In that regard, it is certainly worth being published in a\n",
      "(quantitative/emprirical) linguistic venue.\n",
      "\n",
      "On another note, the literature on POS tagging and POS induction using word\n",
      "embeddings should be cited more extensively (cf. for instance Lin, Ammar, Duer\n",
      "and Levin 2015; Ling et al. 2015 [EMNLP]; Plank, SÃ¸gaard and Goldberg\n",
      "2016...).\n"
     ]
    }
   ],
   "source": [
    "for text in accepted_paper['comments']:\n",
    "    print(text)\n",
    "    break"
   ]
  },
  {
   "cell_type": "markdown",
   "metadata": {},
   "source": [
    "## Check the missing data "
   ]
  },
  {
   "cell_type": "code",
   "execution_count": 173,
   "metadata": {},
   "outputs": [
    {
     "data": {
      "text/plain": [
       "title                      0\n",
       "IMPACT                     6\n",
       "SUBSTANCE                  0\n",
       "APPROPRIATENESS            0\n",
       "MEANINGFUL_COMPARISON      6\n",
       "PRESENTATION_FORMAT        0\n",
       "comments                   0\n",
       "SOUNDNESS_CORRECTNESS      0\n",
       "ORIGINALITY                0\n",
       "RECOMMENDATION             0\n",
       "CLARITY                    0\n",
       "REVIEWER_CONFIDENCE        0\n",
       "citation_count             0\n",
       "source                     0\n",
       "PRESENTATION_FORMAT_NUM    0\n",
       "dtype: int64"
      ]
     },
     "execution_count": 173,
     "metadata": {},
     "output_type": "execute_result"
    }
   ],
   "source": [
    "accepted_paper.isna().sum()"
   ]
  },
  {
   "cell_type": "code",
   "execution_count": 174,
   "metadata": {},
   "outputs": [
    {
     "data": {
      "text/html": [
       "<div>\n",
       "<style scoped>\n",
       "    .dataframe tbody tr th:only-of-type {\n",
       "        vertical-align: middle;\n",
       "    }\n",
       "\n",
       "    .dataframe tbody tr th {\n",
       "        vertical-align: top;\n",
       "    }\n",
       "\n",
       "    .dataframe thead th {\n",
       "        text-align: right;\n",
       "    }\n",
       "</style>\n",
       "<table border=\"1\" class=\"dataframe\">\n",
       "  <thead>\n",
       "    <tr style=\"text-align: right;\">\n",
       "      <th></th>\n",
       "      <th>title</th>\n",
       "      <th>IMPACT</th>\n",
       "      <th>SUBSTANCE</th>\n",
       "      <th>APPROPRIATENESS</th>\n",
       "      <th>MEANINGFUL_COMPARISON</th>\n",
       "      <th>PRESENTATION_FORMAT</th>\n",
       "      <th>comments</th>\n",
       "      <th>SOUNDNESS_CORRECTNESS</th>\n",
       "      <th>ORIGINALITY</th>\n",
       "      <th>RECOMMENDATION</th>\n",
       "      <th>CLARITY</th>\n",
       "      <th>REVIEWER_CONFIDENCE</th>\n",
       "      <th>citation_count</th>\n",
       "      <th>source</th>\n",
       "      <th>PRESENTATION_FORMAT_NUM</th>\n",
       "    </tr>\n",
       "  </thead>\n",
       "  <tbody>\n",
       "    <tr>\n",
       "      <th>30</th>\n",
       "      <td>Exploiting Argument Information to Improve Eve...</td>\n",
       "      <td>NaN</td>\n",
       "      <td>4</td>\n",
       "      <td>5</td>\n",
       "      <td>NaN</td>\n",
       "      <td>Poster</td>\n",
       "      <td>- Strengths:\\nThis paper tries to use the info...</td>\n",
       "      <td>5</td>\n",
       "      <td>3</td>\n",
       "      <td>4</td>\n",
       "      <td>4</td>\n",
       "      <td>3</td>\n",
       "      <td>164</td>\n",
       "      <td>acl_2017</td>\n",
       "      <td>2</td>\n",
       "    </tr>\n",
       "    <tr>\n",
       "      <th>109</th>\n",
       "      <td>Time Expression Analysis and Recognition Using...</td>\n",
       "      <td>NaN</td>\n",
       "      <td>4</td>\n",
       "      <td>5</td>\n",
       "      <td>NaN</td>\n",
       "      <td>Oral Presentation</td>\n",
       "      <td>This paper describes a rule based approach to ...</td>\n",
       "      <td>4</td>\n",
       "      <td>3</td>\n",
       "      <td>4</td>\n",
       "      <td>4</td>\n",
       "      <td>3</td>\n",
       "      <td>140</td>\n",
       "      <td>acl_2017</td>\n",
       "      <td>1</td>\n",
       "    </tr>\n",
       "    <tr>\n",
       "      <th>110</th>\n",
       "      <td>Time Expression Analysis and Recognition Using...</td>\n",
       "      <td>NaN</td>\n",
       "      <td>4</td>\n",
       "      <td>4</td>\n",
       "      <td>NaN</td>\n",
       "      <td>Poster</td>\n",
       "      <td>The paper proposes a method to recognize time ...</td>\n",
       "      <td>4</td>\n",
       "      <td>3</td>\n",
       "      <td>3</td>\n",
       "      <td>4</td>\n",
       "      <td>4</td>\n",
       "      <td>140</td>\n",
       "      <td>acl_2017</td>\n",
       "      <td>2</td>\n",
       "    </tr>\n",
       "    <tr>\n",
       "      <th>141</th>\n",
       "      <td>Attention-over-Attention Neural Networks for R...</td>\n",
       "      <td>NaN</td>\n",
       "      <td>4</td>\n",
       "      <td>5</td>\n",
       "      <td>NaN</td>\n",
       "      <td>Oral Presentation</td>\n",
       "      <td>- Strengths:\\n\\n-- A well-motivated approach, ...</td>\n",
       "      <td>5</td>\n",
       "      <td>3</td>\n",
       "      <td>5</td>\n",
       "      <td>5</td>\n",
       "      <td>4</td>\n",
       "      <td>200</td>\n",
       "      <td>acl_2017</td>\n",
       "      <td>1</td>\n",
       "    </tr>\n",
       "    <tr>\n",
       "      <th>152</th>\n",
       "      <td>Generating and Exploiting Large-scale Pseudo T...</td>\n",
       "      <td>NaN</td>\n",
       "      <td>3</td>\n",
       "      <td>5</td>\n",
       "      <td>NaN</td>\n",
       "      <td>Oral Presentation</td>\n",
       "      <td>- Strengths:\\nThis paper introduced a novel me...</td>\n",
       "      <td>5</td>\n",
       "      <td>3</td>\n",
       "      <td>4</td>\n",
       "      <td>4</td>\n",
       "      <td>4</td>\n",
       "      <td>101</td>\n",
       "      <td>acl_2017</td>\n",
       "      <td>1</td>\n",
       "    </tr>\n",
       "    <tr>\n",
       "      <th>153</th>\n",
       "      <td>Generating and Exploiting Large-scale Pseudo T...</td>\n",
       "      <td>NaN</td>\n",
       "      <td>4</td>\n",
       "      <td>5</td>\n",
       "      <td>NaN</td>\n",
       "      <td>Poster</td>\n",
       "      <td>- Strengths:\\n\\nThe approach is novel and the ...</td>\n",
       "      <td>5</td>\n",
       "      <td>3</td>\n",
       "      <td>4</td>\n",
       "      <td>4</td>\n",
       "      <td>3</td>\n",
       "      <td>101</td>\n",
       "      <td>acl_2017</td>\n",
       "      <td>2</td>\n",
       "    </tr>\n",
       "  </tbody>\n",
       "</table>\n",
       "</div>"
      ],
      "text/plain": [
       "                                                 title  IMPACT  SUBSTANCE  \\\n",
       "30   Exploiting Argument Information to Improve Eve...     NaN          4   \n",
       "109  Time Expression Analysis and Recognition Using...     NaN          4   \n",
       "110  Time Expression Analysis and Recognition Using...     NaN          4   \n",
       "141  Attention-over-Attention Neural Networks for R...     NaN          4   \n",
       "152  Generating and Exploiting Large-scale Pseudo T...     NaN          3   \n",
       "153  Generating and Exploiting Large-scale Pseudo T...     NaN          4   \n",
       "\n",
       "     APPROPRIATENESS  MEANINGFUL_COMPARISON PRESENTATION_FORMAT  \\\n",
       "30                 5                    NaN              Poster   \n",
       "109                5                    NaN   Oral Presentation   \n",
       "110                4                    NaN              Poster   \n",
       "141                5                    NaN   Oral Presentation   \n",
       "152                5                    NaN   Oral Presentation   \n",
       "153                5                    NaN              Poster   \n",
       "\n",
       "                                              comments  SOUNDNESS_CORRECTNESS  \\\n",
       "30   - Strengths:\\nThis paper tries to use the info...                      5   \n",
       "109  This paper describes a rule based approach to ...                      4   \n",
       "110  The paper proposes a method to recognize time ...                      4   \n",
       "141  - Strengths:\\n\\n-- A well-motivated approach, ...                      5   \n",
       "152  - Strengths:\\nThis paper introduced a novel me...                      5   \n",
       "153  - Strengths:\\n\\nThe approach is novel and the ...                      5   \n",
       "\n",
       "     ORIGINALITY  RECOMMENDATION  CLARITY  REVIEWER_CONFIDENCE  \\\n",
       "30             3               4        4                    3   \n",
       "109            3               4        4                    3   \n",
       "110            3               3        4                    4   \n",
       "141            3               5        5                    4   \n",
       "152            3               4        4                    4   \n",
       "153            3               4        4                    3   \n",
       "\n",
       "     citation_count    source  PRESENTATION_FORMAT_NUM  \n",
       "30              164  acl_2017                        2  \n",
       "109             140  acl_2017                        1  \n",
       "110             140  acl_2017                        2  \n",
       "141             200  acl_2017                        1  \n",
       "152             101  acl_2017                        1  \n",
       "153             101  acl_2017                        2  "
      ]
     },
     "execution_count": 174,
     "metadata": {},
     "output_type": "execute_result"
    }
   ],
   "source": [
    "nan_rows = accepted_paper[accepted_paper.isna().any(axis=1)]\n",
    "nan_rows"
   ]
  },
  {
   "cell_type": "code",
   "execution_count": 175,
   "metadata": {},
   "outputs": [],
   "source": [
    "# The missing values should be removed because we have no way to impute the comments and the presentation format for the missing values\n",
    "accepted_new_paper = accepted_paper.dropna().drop(columns=['PRESENTATION_FORMAT'])"
   ]
  },
  {
   "cell_type": "markdown",
   "metadata": {},
   "source": [
    "## Check the outlier"
   ]
  },
  {
   "cell_type": "markdown",
   "metadata": {},
   "source": [
    "### check the citation"
   ]
  },
  {
   "cell_type": "code",
   "execution_count": 176,
   "metadata": {},
   "outputs": [
    {
     "data": {
      "image/png": "[encoded data removed]",
      "text/plain": [
       "<Figure size 640x480 with 1 Axes>"
      ]
     },
     "metadata": {},
     "output_type": "display_data"
    }
   ],
   "source": [
    "import matplotlib.pyplot as plt\n",
    "\n",
    "plt.boxplot(accepted_new_paper['citation_count'])\n",
    "plt.title('Boxplot of Citation Count')\n",
    "plt.ylabel('Citation Count')\n",
    "plt.show()"
   ]
  },
  {
   "cell_type": "markdown",
   "metadata": {},
   "source": [
    "### check the matadata"
   ]
  },
  {
   "cell_type": "code",
   "execution_count": 177,
   "metadata": {},
   "outputs": [
    {
     "name": "stdout",
     "output_type": "stream",
     "text": [
      "title                       object\n",
      "IMPACT                     float64\n",
      "SUBSTANCE                    int64\n",
      "APPROPRIATENESS              int64\n",
      "MEANINGFUL_COMPARISON      float64\n",
      "comments                    object\n",
      "SOUNDNESS_CORRECTNESS        int64\n",
      "ORIGINALITY                  int64\n",
      "RECOMMENDATION               int64\n",
      "CLARITY                      int64\n",
      "REVIEWER_CONFIDENCE          int64\n",
      "citation_count               int64\n",
      "source                      object\n",
      "PRESENTATION_FORMAT_NUM      int64\n",
      "dtype: object\n"
     ]
    }
   ],
   "source": [
    "print(accepted_new_paper.dtypes)"
   ]
  },
  {
   "cell_type": "markdown",
   "metadata": {},
   "source": [
    "### Make the 'object' to 'numerical'"
   ]
  },
  {
   "cell_type": "code",
   "execution_count": 178,
   "metadata": {},
   "outputs": [],
   "source": [
    "# make the string to numerical\n",
    "numerical_columns = ['IMPACT', 'SUBSTANCE', 'APPROPRIATENESS',\n",
    "       'MEANINGFUL_COMPARISON', 'PRESENTATION_FORMAT_NUM', \n",
    "       'SOUNDNESS_CORRECTNESS', 'ORIGINALITY', 'RECOMMENDATION', 'CLARITY',\n",
    "       'REVIEWER_CONFIDENCE', 'citation_count']\n",
    "for column in numerical_columns:\n",
    "    accepted_new_paper[column] = pd.to_numeric(accepted_new_paper[column])\n"
   ]
  },
  {
   "cell_type": "code",
   "execution_count": 179,
   "metadata": {},
   "outputs": [
    {
     "name": "stdout",
     "output_type": "stream",
     "text": [
      "title                       object\n",
      "IMPACT                     float64\n",
      "SUBSTANCE                    int64\n",
      "APPROPRIATENESS              int64\n",
      "MEANINGFUL_COMPARISON      float64\n",
      "comments                    object\n",
      "SOUNDNESS_CORRECTNESS        int64\n",
      "ORIGINALITY                  int64\n",
      "RECOMMENDATION               int64\n",
      "CLARITY                      int64\n",
      "REVIEWER_CONFIDENCE          int64\n",
      "citation_count               int64\n",
      "source                      object\n",
      "PRESENTATION_FORMAT_NUM      int64\n",
      "dtype: object\n"
     ]
    }
   ],
   "source": [
    "print(accepted_new_paper.dtypes)"
   ]
  },
  {
   "cell_type": "code",
   "execution_count": 180,
   "metadata": {},
   "outputs": [
    {
     "data": {
      "text/html": [
       "<div>\n",
       "<style scoped>\n",
       "    .dataframe tbody tr th:only-of-type {\n",
       "        vertical-align: middle;\n",
       "    }\n",
       "\n",
       "    .dataframe tbody tr th {\n",
       "        vertical-align: top;\n",
       "    }\n",
       "\n",
       "    .dataframe thead th {\n",
       "        text-align: right;\n",
       "    }\n",
       "</style>\n",
       "<table border=\"1\" class=\"dataframe\">\n",
       "  <thead>\n",
       "    <tr style=\"text-align: right;\">\n",
       "      <th></th>\n",
       "      <th>IMPACT</th>\n",
       "      <th>SUBSTANCE</th>\n",
       "      <th>APPROPRIATENESS</th>\n",
       "      <th>MEANINGFUL_COMPARISON</th>\n",
       "      <th>SOUNDNESS_CORRECTNESS</th>\n",
       "      <th>ORIGINALITY</th>\n",
       "      <th>RECOMMENDATION</th>\n",
       "      <th>CLARITY</th>\n",
       "      <th>REVIEWER_CONFIDENCE</th>\n",
       "      <th>citation_count</th>\n",
       "      <th>PRESENTATION_FORMAT_NUM</th>\n",
       "    </tr>\n",
       "  </thead>\n",
       "  <tbody>\n",
       "    <tr>\n",
       "      <th>count</th>\n",
       "      <td>172.000000</td>\n",
       "      <td>172.000000</td>\n",
       "      <td>172.000000</td>\n",
       "      <td>172.000000</td>\n",
       "      <td>172.000000</td>\n",
       "      <td>172.000000</td>\n",
       "      <td>172.000000</td>\n",
       "      <td>172.000000</td>\n",
       "      <td>172.000000</td>\n",
       "      <td>172.000000</td>\n",
       "      <td>172.000000</td>\n",
       "    </tr>\n",
       "    <tr>\n",
       "      <th>mean</th>\n",
       "      <td>3.238372</td>\n",
       "      <td>3.668605</td>\n",
       "      <td>4.889535</td>\n",
       "      <td>3.563953</td>\n",
       "      <td>4.063953</td>\n",
       "      <td>3.848837</td>\n",
       "      <td>3.517442</td>\n",
       "      <td>4.034884</td>\n",
       "      <td>3.883721</td>\n",
       "      <td>117.744186</td>\n",
       "      <td>1.505814</td>\n",
       "    </tr>\n",
       "    <tr>\n",
       "      <th>std</th>\n",
       "      <td>0.636266</td>\n",
       "      <td>0.787737</td>\n",
       "      <td>0.396632</td>\n",
       "      <td>0.879582</td>\n",
       "      <td>0.872908</td>\n",
       "      <td>0.892037</td>\n",
       "      <td>0.783409</td>\n",
       "      <td>0.871212</td>\n",
       "      <td>0.786116</td>\n",
       "      <td>64.085868</td>\n",
       "      <td>0.501426</td>\n",
       "    </tr>\n",
       "    <tr>\n",
       "      <th>min</th>\n",
       "      <td>2.000000</td>\n",
       "      <td>1.000000</td>\n",
       "      <td>2.000000</td>\n",
       "      <td>1.000000</td>\n",
       "      <td>3.000000</td>\n",
       "      <td>2.000000</td>\n",
       "      <td>1.000000</td>\n",
       "      <td>1.000000</td>\n",
       "      <td>2.000000</td>\n",
       "      <td>1.000000</td>\n",
       "      <td>1.000000</td>\n",
       "    </tr>\n",
       "    <tr>\n",
       "      <th>25%</th>\n",
       "      <td>3.000000</td>\n",
       "      <td>3.000000</td>\n",
       "      <td>5.000000</td>\n",
       "      <td>3.000000</td>\n",
       "      <td>3.000000</td>\n",
       "      <td>3.000000</td>\n",
       "      <td>3.000000</td>\n",
       "      <td>4.000000</td>\n",
       "      <td>3.000000</td>\n",
       "      <td>60.000000</td>\n",
       "      <td>1.000000</td>\n",
       "    </tr>\n",
       "    <tr>\n",
       "      <th>50%</th>\n",
       "      <td>3.000000</td>\n",
       "      <td>4.000000</td>\n",
       "      <td>5.000000</td>\n",
       "      <td>3.000000</td>\n",
       "      <td>4.000000</td>\n",
       "      <td>4.000000</td>\n",
       "      <td>4.000000</td>\n",
       "      <td>4.000000</td>\n",
       "      <td>4.000000</td>\n",
       "      <td>115.000000</td>\n",
       "      <td>2.000000</td>\n",
       "    </tr>\n",
       "    <tr>\n",
       "      <th>75%</th>\n",
       "      <td>3.000000</td>\n",
       "      <td>4.000000</td>\n",
       "      <td>5.000000</td>\n",
       "      <td>4.000000</td>\n",
       "      <td>5.000000</td>\n",
       "      <td>5.000000</td>\n",
       "      <td>4.000000</td>\n",
       "      <td>5.000000</td>\n",
       "      <td>4.000000</td>\n",
       "      <td>171.750000</td>\n",
       "      <td>2.000000</td>\n",
       "    </tr>\n",
       "    <tr>\n",
       "      <th>max</th>\n",
       "      <td>5.000000</td>\n",
       "      <td>5.000000</td>\n",
       "      <td>5.000000</td>\n",
       "      <td>5.000000</td>\n",
       "      <td>5.000000</td>\n",
       "      <td>5.000000</td>\n",
       "      <td>5.000000</td>\n",
       "      <td>5.000000</td>\n",
       "      <td>5.000000</td>\n",
       "      <td>250.000000</td>\n",
       "      <td>2.000000</td>\n",
       "    </tr>\n",
       "  </tbody>\n",
       "</table>\n",
       "</div>"
      ],
      "text/plain": [
       "           IMPACT   SUBSTANCE  APPROPRIATENESS  MEANINGFUL_COMPARISON  \\\n",
       "count  172.000000  172.000000       172.000000             172.000000   \n",
       "mean     3.238372    3.668605         4.889535               3.563953   \n",
       "std      0.636266    0.787737         0.396632               0.879582   \n",
       "min      2.000000    1.000000         2.000000               1.000000   \n",
       "25%      3.000000    3.000000         5.000000               3.000000   \n",
       "50%      3.000000    4.000000         5.000000               3.000000   \n",
       "75%      3.000000    4.000000         5.000000               4.000000   \n",
       "max      5.000000    5.000000         5.000000               5.000000   \n",
       "\n",
       "       SOUNDNESS_CORRECTNESS  ORIGINALITY  RECOMMENDATION     CLARITY  \\\n",
       "count             172.000000   172.000000      172.000000  172.000000   \n",
       "mean                4.063953     3.848837        3.517442    4.034884   \n",
       "std                 0.872908     0.892037        0.783409    0.871212   \n",
       "min                 3.000000     2.000000        1.000000    1.000000   \n",
       "25%                 3.000000     3.000000        3.000000    4.000000   \n",
       "50%                 4.000000     4.000000        4.000000    4.000000   \n",
       "75%                 5.000000     5.000000        4.000000    5.000000   \n",
       "max                 5.000000     5.000000        5.000000    5.000000   \n",
       "\n",
       "       REVIEWER_CONFIDENCE  citation_count  PRESENTATION_FORMAT_NUM  \n",
       "count           172.000000      172.000000               172.000000  \n",
       "mean              3.883721      117.744186                 1.505814  \n",
       "std               0.786116       64.085868                 0.501426  \n",
       "min               2.000000        1.000000                 1.000000  \n",
       "25%               3.000000       60.000000                 1.000000  \n",
       "50%               4.000000      115.000000                 2.000000  \n",
       "75%               4.000000      171.750000                 2.000000  \n",
       "max               5.000000      250.000000                 2.000000  "
      ]
     },
     "execution_count": 180,
     "metadata": {},
     "output_type": "execute_result"
    }
   ],
   "source": [
    "accepted_new_paper.describe()"
   ]
  },
  {
   "cell_type": "markdown",
   "metadata": {},
   "source": [
    "After review, there is no outlier data, thus we have finished the data cleaning."
   ]
  },
  {
   "cell_type": "code",
   "execution_count": 181,
   "metadata": {},
   "outputs": [
    {
     "data": {
      "image/png": "[encoded data removed]",
      "text/plain": [
       "<Figure size 800x600 with 1 Axes>"
      ]
     },
     "metadata": {},
     "output_type": "display_data"
    }
   ],
   "source": [
    "accepted_new_paper['REVIEWER_CONFIDENCE'].value_counts().sort_index().plot(\n",
    "    kind='bar', color='skyblue', figsize=(8, 6)\n",
    ")\n",
    "plt.title('Distribution of Reviewer Confidence')\n",
    "plt.xlabel('Reviewer Confidence')\n",
    "plt.ylabel('Frequency')\n",
    "plt.xticks(rotation=0)\n",
    "plt.show()"
   ]
  },
  {
   "cell_type": "code",
   "execution_count": 182,
   "metadata": {},
   "outputs": [
    {
     "data": {
      "text/plain": [
       "title                       object\n",
       "IMPACT                     float64\n",
       "SUBSTANCE                    int64\n",
       "APPROPRIATENESS              int64\n",
       "MEANINGFUL_COMPARISON      float64\n",
       "comments                    object\n",
       "SOUNDNESS_CORRECTNESS        int64\n",
       "ORIGINALITY                  int64\n",
       "RECOMMENDATION               int64\n",
       "CLARITY                      int64\n",
       "REVIEWER_CONFIDENCE          int64\n",
       "citation_count               int64\n",
       "source                      object\n",
       "PRESENTATION_FORMAT_NUM      int64\n",
       "dtype: object"
      ]
     },
     "execution_count": 182,
     "metadata": {},
     "output_type": "execute_result"
    }
   ],
   "source": [
    "accepted_new_paper.dtypes"
   ]
  },
  {
   "cell_type": "code",
   "execution_count": 183,
   "metadata": {},
   "outputs": [],
   "source": [
    "accepted_clean = accepted_new_paper.drop(columns=['comments']) "
   ]
  },
  {
   "cell_type": "code",
   "execution_count": 184,
   "metadata": {},
   "outputs": [],
   "source": [
    "accepted_clean.to_pickle('data/accepted_clean.pkl')"
   ]
  },
  {
   "cell_type": "code",
   "execution_count": 185,
   "metadata": {},
   "outputs": [],
   "source": [
    "accepted_clean.to_pickle('data/cleaned_data.csv')"
   ]
  }
 ],
 "metadata": {
  "kernelspec": {
   "display_name": "test1",
   "language": "python",
   "name": "python3"
  },
  "language_info": {
   "codemirror_mode": {
    "name": "ipython",
    "version": 3
   },
   "file_extension": ".py",
   "mimetype": "text/x-python",
   "name": "python",
   "nbconvert_exporter": "python",
   "pygments_lexer": "ipython3",
   "version": "3.9.18"
  }
 },
 "nbformat": 4,
 "nbformat_minor": 2
}
